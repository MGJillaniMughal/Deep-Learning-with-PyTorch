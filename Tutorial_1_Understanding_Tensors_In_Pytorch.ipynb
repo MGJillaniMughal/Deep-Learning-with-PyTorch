{
 "cells": [
  {
   "cell_type": "markdown",
   "metadata": {},
   "source": [
    "### Pytorch Tutorial\n",
    "#### Tensors Basics\n",
    "A tensor is a generalization of vectors and matrices and is easily understood as a multidimensional array.It is a term and set of techniques known in machine learning in the training and operation of deep learning models can be described in terms of tensors.\n",
    "In many cases tensors are used as a replacement for NumPy to use the power of GPUs.\n",
    "\n",
    "Tensors are a type of data structure used in linear algebra, and like vectors and matrices, you can calculate arithmetic operations with tensors.\n",
    "\n",
    "\n",
    "#### Detailed Explanation of Tensors\n",
    "Tensors are a fundamental aspect of PyTorch and are used to represent data in deep learning models. They are similar to NumPy arrays but come with additional capabilities like GPU acceleration.\n",
    "\n",
    "#### Examples of Tensor Creation\n",
    "- `torch.Tensor([1, 2, 3])`: Creates a tensor with specified values.\n",
    "- `torch.zeros(2, 3)`: Creates a 2x3 tensor filled with zeros.\n",
    "- `torch.ones(3, 2)`: Creates a 3x2 tensor filled with ones.\n",
    "- `torch.eye(3)`: Creates a 3x3 identity matrix.\n",
    "\n",
    "These examples demonstrate various ways to create tensors in PyTorch.\n"
   ]
  },
  {
   "cell_type": "code",
   "execution_count": 1,
   "metadata": {},
   "outputs": [],
   "source": [
    "import torch"
   ]
  },
  {
   "cell_type": "code",
   "execution_count": 2,
   "metadata": {},
   "outputs": [
    {
     "data": {
      "text/plain": [
       "'2.1.1+cpu'"
      ]
     },
     "execution_count": 2,
     "metadata": {},
     "output_type": "execute_result"
    }
   ],
   "source": [
    "torch.__version__"
   ]
  },
  {
   "cell_type": "code",
   "execution_count": 3,
   "metadata": {},
   "outputs": [],
   "source": [
    "import numpy as np"
   ]
  },
  {
   "cell_type": "code",
   "execution_count": 4,
   "metadata": {},
   "outputs": [],
   "source": [
    "lst=[3,4,5,6]\n",
    "arr=np.array(lst)"
   ]
  },
  {
   "cell_type": "code",
   "execution_count": 5,
   "metadata": {},
   "outputs": [
    {
     "data": {
      "text/plain": [
       "array([3, 4, 5, 6])"
      ]
     },
     "execution_count": 5,
     "metadata": {},
     "output_type": "execute_result"
    }
   ],
   "source": [
    "arr"
   ]
  },
  {
   "cell_type": "code",
   "execution_count": 6,
   "metadata": {},
   "outputs": [
    {
     "data": {
      "text/plain": [
       "dtype('int32')"
      ]
     },
     "execution_count": 6,
     "metadata": {},
     "output_type": "execute_result"
    }
   ],
   "source": [
    "arr.dtype"
   ]
  },
  {
   "cell_type": "markdown",
   "metadata": {},
   "source": [
    "### Convert Numpy To Pytorch Tensors\n",
    "\n",
    "\n",
    "#### In-Depth Conversion Techniques\n",
    "Converting between NumPy arrays and PyTorch tensors is seamless, which allows for easy integration with other Python libraries.\n",
    "\n",
    "##### Conversion Examples\n",
    "- From NumPy to PyTorch: `torch_tensor = torch.from_numpy(numpy_array)`.\n",
    "- From PyTorch to NumPy: `numpy_array = torch_tensor.numpy()`.\n",
    "\n",
    "This interoperability is vital for data preprocessing and postprocessing in machine learning workflows.\n"
   ]
  },
  {
   "cell_type": "code",
   "execution_count": 7,
   "metadata": {},
   "outputs": [
    {
     "data": {
      "text/plain": [
       "tensor([3, 4, 5, 6], dtype=torch.int32)"
      ]
     },
     "execution_count": 7,
     "metadata": {},
     "output_type": "execute_result"
    }
   ],
   "source": [
    "tensors=torch.from_numpy(arr)\n",
    "tensors"
   ]
  },
  {
   "cell_type": "code",
   "execution_count": 8,
   "metadata": {},
   "outputs": [
    {
     "data": {
      "text/plain": [
       "tensor(5, dtype=torch.int32)"
      ]
     },
     "execution_count": 8,
     "metadata": {},
     "output_type": "execute_result"
    }
   ],
   "source": [
    "### Indexing similar to numpy\n",
    "tensors[2]\n"
   ]
  },
  {
   "cell_type": "code",
   "execution_count": 9,
   "metadata": {},
   "outputs": [
    {
     "data": {
      "text/plain": [
       "tensor([4, 5, 6], dtype=torch.int32)"
      ]
     },
     "execution_count": 9,
     "metadata": {},
     "output_type": "execute_result"
    }
   ],
   "source": [
    "tensors[1:4]"
   ]
  },
  {
   "cell_type": "code",
   "execution_count": 10,
   "metadata": {},
   "outputs": [],
   "source": [
    "#### Disadvantage of from_numpy. The array and tensor uses the same memory location\n",
    "tensors[3]=100"
   ]
  },
  {
   "cell_type": "code",
   "execution_count": 11,
   "metadata": {},
   "outputs": [
    {
     "data": {
      "text/plain": [
       "tensor([  3,   4,   5, 100], dtype=torch.int32)"
      ]
     },
     "execution_count": 11,
     "metadata": {},
     "output_type": "execute_result"
    }
   ],
   "source": [
    "tensors"
   ]
  },
  {
   "cell_type": "code",
   "execution_count": 12,
   "metadata": {},
   "outputs": [
    {
     "data": {
      "text/plain": [
       "array([  3,   4,   5, 100])"
      ]
     },
     "execution_count": 12,
     "metadata": {},
     "output_type": "execute_result"
    }
   ],
   "source": [
    "arr"
   ]
  },
  {
   "cell_type": "code",
   "execution_count": 13,
   "metadata": {},
   "outputs": [
    {
     "data": {
      "text/plain": [
       "tensor([  3,   4,   5, 100], dtype=torch.int32)"
      ]
     },
     "execution_count": 13,
     "metadata": {},
     "output_type": "execute_result"
    }
   ],
   "source": [
    "### Prevent this by using torch.tensor\n",
    "tensor_arr=torch.tensor(arr)\n",
    "tensor_arr"
   ]
  },
  {
   "cell_type": "code",
   "execution_count": 14,
   "metadata": {},
   "outputs": [
    {
     "name": "stdout",
     "output_type": "stream",
     "text": [
      "tensor([  3,   4,   5, 120], dtype=torch.int32)\n",
      "[  3   4   5 100]\n"
     ]
    }
   ],
   "source": [
    "tensor_arr[3]=120\n",
    "print(tensor_arr)\n",
    "print(arr)"
   ]
  },
  {
   "cell_type": "code",
   "execution_count": 15,
   "metadata": {},
   "outputs": [
    {
     "data": {
      "text/plain": [
       "tensor([[0., 0., 0.],\n",
       "        [0., 0., 0.]], dtype=torch.float64)"
      ]
     },
     "execution_count": 15,
     "metadata": {},
     "output_type": "execute_result"
    }
   ],
   "source": [
    "##zeros and ones\n",
    "torch.zeros(2,3,dtype=torch.float64)"
   ]
  },
  {
   "cell_type": "code",
   "execution_count": 16,
   "metadata": {},
   "outputs": [
    {
     "data": {
      "text/plain": [
       "tensor([[1., 1., 1.],\n",
       "        [1., 1., 1.]], dtype=torch.float64)"
      ]
     },
     "execution_count": 16,
     "metadata": {},
     "output_type": "execute_result"
    }
   ],
   "source": [
    "torch.ones(2,3,dtype=torch.float64)"
   ]
  },
  {
   "cell_type": "code",
   "execution_count": 17,
   "metadata": {},
   "outputs": [],
   "source": [
    "a=torch.tensor(np.arange(0,15).reshape(5,3))"
   ]
  },
  {
   "cell_type": "code",
   "execution_count": 18,
   "metadata": {},
   "outputs": [
    {
     "data": {
      "text/plain": [
       "tensor([[ 0,  1],\n",
       "        [ 3,  4],\n",
       "        [ 6,  7],\n",
       "        [ 9, 10],\n",
       "        [12, 13]], dtype=torch.int32)"
      ]
     },
     "execution_count": 18,
     "metadata": {},
     "output_type": "execute_result"
    }
   ],
   "source": [
    "a[:,0:2]"
   ]
  },
  {
   "cell_type": "markdown",
   "metadata": {},
   "source": [
    "##### Arithmetic Operation"
   ]
  },
  {
   "cell_type": "code",
   "execution_count": 19,
   "metadata": {},
   "outputs": [
    {
     "name": "stdout",
     "output_type": "stream",
     "text": [
      "tensor([ 7.,  9., 11.])\n"
     ]
    }
   ],
   "source": [
    "a = torch.tensor([3,4,5], dtype=torch.float)\n",
    "b = torch.tensor([4,5,6], dtype=torch.float)\n",
    "print(a + b)"
   ]
  },
  {
   "cell_type": "code",
   "execution_count": 20,
   "metadata": {},
   "outputs": [
    {
     "data": {
      "text/plain": [
       "tensor([ 7.,  9., 11.])"
      ]
     },
     "execution_count": 20,
     "metadata": {},
     "output_type": "execute_result"
    }
   ],
   "source": [
    "torch.add(a,b)"
   ]
  },
  {
   "cell_type": "code",
   "execution_count": 21,
   "metadata": {},
   "outputs": [],
   "source": [
    "c=torch.zeros(3)"
   ]
  },
  {
   "cell_type": "code",
   "execution_count": 22,
   "metadata": {},
   "outputs": [
    {
     "data": {
      "text/plain": [
       "tensor([ 7.,  9., 11.])"
      ]
     },
     "execution_count": 22,
     "metadata": {},
     "output_type": "execute_result"
    }
   ],
   "source": [
    "torch.add(a,b,out=c)"
   ]
  },
  {
   "cell_type": "code",
   "execution_count": 23,
   "metadata": {},
   "outputs": [
    {
     "data": {
      "text/plain": [
       "tensor([ 7.,  9., 11.])"
      ]
     },
     "execution_count": 23,
     "metadata": {},
     "output_type": "execute_result"
    }
   ],
   "source": [
    "c"
   ]
  },
  {
   "cell_type": "code",
   "execution_count": 24,
   "metadata": {},
   "outputs": [],
   "source": [
    "##### Some more operations\n",
    "a = torch.tensor([3,4,5], dtype=torch.float)\n",
    "b = torch.tensor([4,5,6], dtype=torch.float)"
   ]
  },
  {
   "cell_type": "code",
   "execution_count": 25,
   "metadata": {},
   "outputs": [
    {
     "data": {
      "text/plain": [
       "tensor(27.)"
      ]
     },
     "execution_count": 25,
     "metadata": {},
     "output_type": "execute_result"
    }
   ],
   "source": [
    "### tensor[7,9,15]\n",
    "torch.add(a,b).sum()"
   ]
  },
  {
   "cell_type": "markdown",
   "metadata": {},
   "source": [
    "##### Dot Products and Mult Operations"
   ]
  },
  {
   "cell_type": "code",
   "execution_count": 26,
   "metadata": {},
   "outputs": [],
   "source": [
    "x= torch.tensor([3,4,5], dtype=torch.float)\n",
    "y = torch.tensor([4,5,6], dtype=torch.float)"
   ]
  },
  {
   "cell_type": "code",
   "execution_count": 27,
   "metadata": {},
   "outputs": [
    {
     "data": {
      "text/plain": [
       "tensor([12., 20., 30.])"
      ]
     },
     "execution_count": 27,
     "metadata": {},
     "output_type": "execute_result"
    }
   ],
   "source": [
    "x.mul(y)"
   ]
  },
  {
   "cell_type": "code",
   "execution_count": 28,
   "metadata": {},
   "outputs": [
    {
     "data": {
      "text/plain": [
       "tensor(62.)"
      ]
     },
     "execution_count": 28,
     "metadata": {},
     "output_type": "execute_result"
    }
   ],
   "source": [
    "x.dot(y)"
   ]
  },
  {
   "cell_type": "markdown",
   "metadata": {},
   "source": [
    "# Matrix Multiplication"
   ]
  },
  {
   "cell_type": "code",
   "execution_count": 29,
   "metadata": {},
   "outputs": [],
   "source": [
    "x = torch.tensor([[1,4,2],[1,5,5]], dtype=torch.float)\n",
    "y = torch.tensor([[5,7],[8,6],[9,11]], dtype=torch.float)"
   ]
  },
  {
   "cell_type": "code",
   "execution_count": 30,
   "metadata": {},
   "outputs": [
    {
     "data": {
      "text/plain": [
       "tensor([[55., 53.],\n",
       "        [90., 92.]])"
      ]
     },
     "execution_count": 30,
     "metadata": {},
     "output_type": "execute_result"
    }
   ],
   "source": [
    "torch.matmul(x,y)"
   ]
  },
  {
   "cell_type": "code",
   "execution_count": 31,
   "metadata": {},
   "outputs": [
    {
     "data": {
      "text/plain": [
       "tensor([[55., 53.],\n",
       "        [90., 92.]])"
      ]
     },
     "execution_count": 31,
     "metadata": {},
     "output_type": "execute_result"
    }
   ],
   "source": [
    "torch.mm(x,y)"
   ]
  },
  {
   "cell_type": "code",
   "execution_count": 32,
   "metadata": {},
   "outputs": [
    {
     "data": {
      "text/plain": [
       "tensor([[55., 53.],\n",
       "        [90., 92.]])"
      ]
     },
     "execution_count": 32,
     "metadata": {},
     "output_type": "execute_result"
    }
   ],
   "source": [
    "x@y"
   ]
  },
  {
   "cell_type": "markdown",
   "id": "2269b6d5",
   "metadata": {},
   "source": [
    "\n",
    "### Expanded Introduction to Tensors in PyTorch\n",
    "Tensors are the fundamental building blocks in PyTorch. They are similar to NumPy arrays but have additional capabilities, such as GPU support, which makes them suitable for deep learning. Tensors can store data of various dimensions, making them versatile for different types of data structures like scalars (0D), vectors (1D), matrices (2D), and higher-dimensional data.\n"
   ]
  },
  {
   "cell_type": "markdown",
   "id": "1008801b",
   "metadata": {},
   "source": [
    "\n",
    "### Basic Tensor Operations\n",
    "Let's explore some basic tensor operations which are essential for deep learning tasks.\n"
   ]
  },
  {
   "cell_type": "code",
   "execution_count": 33,
   "id": "d3d75984",
   "metadata": {},
   "outputs": [],
   "source": [
    "\n",
    "# Creating tensors\n",
    "tensor_a = torch.tensor([1, 2, 3])\n",
    "tensor_b = torch.tensor([4, 5, 6])\n",
    "\n",
    "# Basic operations\n",
    "sum_ab = tensor_a + tensor_b\n",
    "product_ab = tensor_a * tensor_b\n"
   ]
  },
  {
   "cell_type": "markdown",
   "id": "b9a4bec1",
   "metadata": {},
   "source": [
    "\n",
    "### Tensor and NumPy Interoperability\n",
    "PyTorch tensors can be easily converted to and from NumPy arrays. This interoperability is important for integrating PyTorch with other scientific computing libraries that use NumPy.\n"
   ]
  },
  {
   "cell_type": "code",
   "execution_count": 34,
   "id": "f898999f",
   "metadata": {},
   "outputs": [],
   "source": [
    "\n",
    "# Converting a NumPy array to a PyTorch Tensor\n",
    "np_array = np.array([7, 8, 9])\n",
    "tensor_from_np = torch.from_numpy(np_array)\n",
    "\n",
    "# Converting a PyTorch Tensor to a NumPy array\n",
    "tensor_to_np = tensor_from_np.numpy()\n"
   ]
  },
  {
   "cell_type": "markdown",
   "id": "7289c2a4",
   "metadata": {},
   "source": [
    "\n",
    "### GPU Utilization in PyTorch\n",
    "PyTorch can utilize GPUs to accelerate its numerical computations. For deep learning models, this can lead to significantly faster training times.\n",
    "\n",
    "\n",
    "\n",
    "#### Detailed GPU Utilization\n",
    "Using GPUs can significantly speed up computations. PyTorch makes it easy to transfer tensors to and from a GPU.\n",
    "\n",
    "##### GPU Acceleration Example\n",
    "- Check if GPU is available: `torch.cuda.is_available()`.\n",
    "- Move tensor to GPU: `tensor = tensor.to('cuda')`.\n",
    "\n",
    "This section can include benchmarks to illustrate the performance improvements when using GPUs.\n"
   ]
  },
  {
   "cell_type": "code",
   "execution_count": 35,
   "id": "3cd82e3d",
   "metadata": {},
   "outputs": [
    {
     "name": "stdout",
     "output_type": "stream",
     "text": [
      "cpu\n",
      "cpu\n"
     ]
    }
   ],
   "source": [
    "\n",
    "# Checking if GPU is available and moving tensors to GPU\n",
    "if torch.cuda.is_available():\n",
    "    tensor_a = tensor_a.to('cuda')\n",
    "    tensor_b = tensor_b.to('cuda')\n",
    "\n",
    "print(tensor_a.device)\n",
    "print(tensor_b.device)\n",
    "\n",
    "    "
   ]
  },
  {
   "cell_type": "markdown",
   "id": "6935187d",
   "metadata": {},
   "source": [
    "\n",
    "### Automatic Differentiation with Autograd\n",
    "PyTorch's autograd system enables automatic computation of gradients, which is essential for backpropagation in neural networks.\n",
    "\n",
    "\n",
    "\n",
    "#### Exploring Autograd\n",
    "Autograd in PyTorch automates the computation of backward passes in neural networks. It computes gradients automatically, which are essential for the optimization process in learning.\n",
    "\n",
    "##### Autograd Example\n",
    "- Create a tensor for differentiation: `x = torch.tensor([1.0, 2.0, 3.0], requires_grad=True)`.\n",
    "- Define a function: `y = x ** 2`.\n",
    "- Compute gradients: `y.backward()`.\n",
    "\n",
    "This example shows how gradients are computed, which is crucial for training deep learning models.\n"
   ]
  },
  {
   "cell_type": "code",
   "execution_count": 36,
   "id": "5adee9c4",
   "metadata": {},
   "outputs": [
    {
     "data": {
      "text/plain": [
       "tensor([2., 4., 6.])"
      ]
     },
     "execution_count": 36,
     "metadata": {},
     "output_type": "execute_result"
    }
   ],
   "source": [
    "\n",
    "# Creating tensors for autograd\n",
    "x = torch.tensor([1.0, 2.0, 3.0], requires_grad=True)\n",
    "y = x ** 2\n",
    "\n",
    "# Computing gradients\n",
    "y.backward(torch.tensor([1.0, 1.0, 1.0]))\n",
    "x.grad  # Derivatives of y with respect to x\n"
   ]
  },
  {
   "cell_type": "markdown",
   "id": "759861ac",
   "metadata": {},
   "source": [
    "\n",
    "### More on Basic Tensor Operations\n",
    "In addition to the basic tensor operations already shown, PyTorch provides a variety of functions to manipulate tensors. These include:\n",
    "\n",
    "1. **Reshaping**: Changing the shape of a tensor without changing its data.\n",
    "2. **Indexing and Slicing**: Accessing parts of tensors using indices.\n",
    "3. **Tensor Concatenation**: Combining multiple tensors into one.\n",
    "4. **Broadcasting**: Automatically expanding tensor sizes for compatible operations.\n"
   ]
  },
  {
   "cell_type": "code",
   "execution_count": 37,
   "id": "150c445b",
   "metadata": {},
   "outputs": [],
   "source": [
    "\n",
    "# Examples of Basic Tensor Operations\n",
    "\n",
    "# Reshaping tensors\n",
    "tensor_reshaped = tensor_a.view(-1, 1)  # Reshaping tensor_a to a column vector\n",
    "\n",
    "# Indexing and slicing\n",
    "first_element = tensor_a[0]  # Accessing the first element\n",
    "tensor_slice = tensor_a[1:3]  # Slicing tensor_a from index 1 to 2\n",
    "\n",
    "# Tensor concatenation\n",
    "concatenated_tensor = torch.cat((tensor_a, tensor_b), dim=0)  # Concatenating along the first dimension\n",
    "\n",
    "# Broadcasting example\n",
    "broadcasted_sum = tensor_a + torch.tensor([1])  # Adding 1 to each element of tensor_a\n"
   ]
  },
  {
   "cell_type": "markdown",
   "id": "65158afd",
   "metadata": {},
   "source": [
    "\n",
    "### Advanced Tensor Operations\n",
    "More advanced tensor operations are crucial for complex tasks in PyTorch. These include:\n",
    "\n",
    "1. **Matrix Multiplication**: Essential operation in neural networks.\n",
    "2. **Element-wise Operations**: Operations performed element-wise on tensors.\n",
    "3. **In-place Operations**: Operations that modify tensors in-place to save memory.\n"
   ]
  },
  {
   "cell_type": "code",
   "execution_count": 38,
   "id": "1315b69c",
   "metadata": {},
   "outputs": [
    {
     "data": {
      "text/plain": [
       "tensor([6, 7, 8])"
      ]
     },
     "execution_count": 38,
     "metadata": {},
     "output_type": "execute_result"
    }
   ],
   "source": [
    "\n",
    "# Examples of Advanced Tensor Operations\n",
    "\n",
    "# Matrix multiplication\n",
    "matrix_a = torch.tensor([[1, 2], [3, 4]])\n",
    "matrix_b = torch.tensor([[5, 6], [7, 8]])\n",
    "product_matrix = torch.matmul(matrix_a, matrix_b)  # Matrix multiplication\n",
    "\n",
    "# Element-wise multiplication\n",
    "elementwise_product = matrix_a * matrix_b\n",
    "\n",
    "# In-place operations\n",
    "tensor_a.add_(5)  # Adds 5 to each element of tensor_a in-place\n"
   ]
  }
 ],
 "metadata": {
  "kernelspec": {
   "display_name": "Python 3",
   "language": "python",
   "name": "python3"
  },
  "language_info": {
   "codemirror_mode": {
    "name": "ipython",
    "version": 3
   },
   "file_extension": ".py",
   "mimetype": "text/x-python",
   "name": "python",
   "nbconvert_exporter": "python",
   "pygments_lexer": "ipython3",
   "version": "3.11.5"
  }
 },
 "nbformat": 4,
 "nbformat_minor": 4
}
