{
 "cells": [
  {
   "cell_type": "markdown",
   "id": "095a3bf5",
   "metadata": {},
   "source": [
    "\n",
    "#### Theoretical Overview of Backpropagation\n",
    "Backpropagation is a fundamental algorithm used for training neural networks. It involves the computation of gradients of the loss function with respect to the weights of the network. This process is essential for gradient descent optimization.\n",
    "\n",
    "##### Key Concepts\n",
    "- **Gradient**: The partial derivative of the loss function with respect to each weight.\n",
    "- **Chain Rule**: Used to compute gradients efficiently in complex networks.\n",
    "- **Learning Rate**: A hyperparameter that determines the step size during weight updates.\n",
    "\n",
    "Understanding these concepts is crucial for effectively training neural networks.\n"
   ]
  },
  {
   "cell_type": "markdown",
   "id": "fcc7c28b",
   "metadata": {},
   "source": [
    "\n",
    "#### Complex Backpropagation Examples\n",
    "To further understand backpropagation, let's explore more complex functions involving multiple variables and operations.\n",
    "\n",
    "##### Example\n",
    "- Consider a function `z = x^2 + y^2`.\n",
    "- Compute the gradients of `z` with respect to both `x` and `y`.\n"
   ]
  },
  {
   "cell_type": "markdown",
   "id": "c471f71c",
   "metadata": {},
   "source": [
    "\n",
    "#### Visualization of Backpropagation\n",
    "Visualizing the gradient descent process can provide insights into how neural networks learn and adjust their weights.\n",
    "\n",
    "##### Suggested Tools\n",
    "- Matplotlib or Seaborn for plotting loss curves.\n",
    "- TensorBoard for more advanced visualizations like viewing the computational graph.\n"
   ]
  },
  {
   "cell_type": "markdown",
   "id": "d8219231",
   "metadata": {},
   "source": [
    "\n",
    "#### Comparing with Manual Gradient Calculations\n",
    "For a simple function, manually calculate the gradients and compare them with PyTorch's computed gradients. This exercise helps in understanding the precision and efficiency of PyTorch's autograd system.\n"
   ]
  },
  {
   "cell_type": "markdown",
   "id": "fcc637ac",
   "metadata": {},
   "source": [
    "\n",
    "#### Error Handling and Debugging in Backpropagation\n",
    "Common issues in backpropagation include vanishing/exploding gradients, improper initialization of weights, and computational graph errors.\n",
    "\n",
    "##### Debugging Tips\n",
    "- Check tensor shapes: Ensure the shapes of tensors are compatible.\n",
    "- Gradual Testing: Test backpropagation in parts to isolate issues.\n",
    "- Use `torch.autograd.set_detect_anomaly(True)` to detect anomalies in the computational graph.\n"
   ]
  },
  {
   "cell_type": "markdown",
   "id": "59950198",
   "metadata": {},
   "source": [
    "\n",
    "#### Practical Applications of Backpropagation\n",
    "In real-world scenarios, backpropagation is used to train deep learning models for tasks like image recognition, natural language processing, and more.\n",
    "\n",
    "##### Example\n",
    "- Training a simple neural network on a dataset like MNIST.\n"
   ]
  },
  {
   "cell_type": "markdown",
   "id": "53d7263e",
   "metadata": {},
   "source": [
    "\n",
    "#### Advanced Topics in Backpropagation\n",
    "Explore advanced topics like different optimization algorithms (Adam, RMSprop), learning rate schedules, and techniques to combat vanishing/exploding gradients.\n",
    "\n",
    "##### Areas for Exploration\n",
    "- Adaptive Learning Rates\n",
    "- Regularization Techniques\n",
    "- Advanced Optimizers\n"
   ]
  },
  {
   "cell_type": "markdown",
   "metadata": {},
   "source": [
    "#### Back Propogation Using Pytorch\n",
    "\n",
    "y=x^2"
   ]
  },
  {
   "cell_type": "code",
   "execution_count": 1,
   "metadata": {},
   "outputs": [],
   "source": [
    "import torch"
   ]
  },
  {
   "cell_type": "code",
   "execution_count": 2,
   "metadata": {},
   "outputs": [],
   "source": [
    "x=torch.tensor(4.0,requires_grad=True)"
   ]
  },
  {
   "cell_type": "code",
   "execution_count": 3,
   "metadata": {},
   "outputs": [
    {
     "data": {
      "text/plain": [
       "tensor(4., requires_grad=True)"
      ]
     },
     "execution_count": 3,
     "metadata": {},
     "output_type": "execute_result"
    }
   ],
   "source": [
    "x"
   ]
  },
  {
   "cell_type": "code",
   "execution_count": 4,
   "metadata": {},
   "outputs": [
    {
     "data": {
      "text/plain": [
       "tensor(16., grad_fn=<PowBackward0>)"
      ]
     },
     "execution_count": 4,
     "metadata": {},
     "output_type": "execute_result"
    }
   ],
   "source": [
    "y=x**2\n",
    "y"
   ]
  },
  {
   "cell_type": "code",
   "execution_count": 5,
   "metadata": {},
   "outputs": [],
   "source": [
    "#### Back propogation y=2*x\n",
    "y.backward()"
   ]
  },
  {
   "cell_type": "code",
   "execution_count": 6,
   "metadata": {},
   "outputs": [
    {
     "name": "stdout",
     "output_type": "stream",
     "text": [
      "tensor(8.)\n"
     ]
    }
   ],
   "source": [
    "print(x.grad)"
   ]
  },
  {
   "cell_type": "code",
   "execution_count": 7,
   "metadata": {},
   "outputs": [],
   "source": [
    "lst=[[2.,3.,1.],[4.,5.,3.],[7.,6.,4.]]\n",
    "torch_input=torch.tensor(lst,requires_grad=True)"
   ]
  },
  {
   "cell_type": "code",
   "execution_count": 8,
   "metadata": {},
   "outputs": [
    {
     "data": {
      "text/plain": [
       "tensor([[2., 3., 1.],\n",
       "        [4., 5., 3.],\n",
       "        [7., 6., 4.]], requires_grad=True)"
      ]
     },
     "execution_count": 8,
     "metadata": {},
     "output_type": "execute_result"
    }
   ],
   "source": [
    "torch_input"
   ]
  },
  {
   "cell_type": "code",
   "execution_count": null,
   "metadata": {},
   "outputs": [],
   "source": []
  },
  {
   "cell_type": "code",
   "execution_count": 9,
   "metadata": {},
   "outputs": [],
   "source": [
    "### y=x**3+x**2\n",
    "### y=3x**2+2x--->\n",
    "y=torch_input**3+torch_input**2"
   ]
  },
  {
   "cell_type": "code",
   "execution_count": 10,
   "metadata": {},
   "outputs": [
    {
     "data": {
      "text/plain": [
       "tensor([[ 12.,  36.,   2.],\n",
       "        [ 80., 150.,  36.],\n",
       "        [392., 252.,  80.]], grad_fn=<AddBackward0>)"
      ]
     },
     "execution_count": 10,
     "metadata": {},
     "output_type": "execute_result"
    }
   ],
   "source": [
    "y"
   ]
  },
  {
   "cell_type": "code",
   "execution_count": 11,
   "metadata": {},
   "outputs": [],
   "source": [
    "z=y.sum()"
   ]
  },
  {
   "cell_type": "code",
   "execution_count": 12,
   "metadata": {},
   "outputs": [
    {
     "data": {
      "text/plain": [
       "tensor(1040., grad_fn=<SumBackward0>)"
      ]
     },
     "execution_count": 12,
     "metadata": {},
     "output_type": "execute_result"
    }
   ],
   "source": [
    "z"
   ]
  },
  {
   "cell_type": "code",
   "execution_count": 13,
   "metadata": {},
   "outputs": [],
   "source": [
    "z.backward()"
   ]
  },
  {
   "cell_type": "code",
   "execution_count": 14,
   "metadata": {},
   "outputs": [
    {
     "data": {
      "text/plain": [
       "tensor([[ 16.,  33.,   5.],\n",
       "        [ 56.,  85.,  33.],\n",
       "        [161., 120.,  56.]])"
      ]
     },
     "execution_count": 14,
     "metadata": {},
     "output_type": "execute_result"
    }
   ],
   "source": [
    "torch_input.grad"
   ]
  },
  {
   "cell_type": "code",
   "execution_count": 15,
   "metadata": {},
   "outputs": [
    {
     "name": "stdout",
     "output_type": "stream",
     "text": [
      "Gradient of f with respect to a: tensor(15.)\n",
      "Gradient of f with respect to b: tensor(-16.)\n"
     ]
    }
   ],
   "source": [
    "# A more complex function for backpropagation\n",
    "a = torch.tensor(2.0, requires_grad=True)\n",
    "b = torch.tensor(3.0, requires_grad=True)\n",
    "f = a**3 - 3*b**2 + a*b\n",
    "\n",
    "# Performing backpropagation\n",
    "f.backward()\n",
    "\n",
    "# Outputting the gradients\n",
    "print('Gradient of f with respect to a:', a.grad)\n",
    "print('Gradient of f with respect to b:', b.grad)"
   ]
  },
  {
   "cell_type": "code",
   "execution_count": 16,
   "metadata": {},
   "outputs": [
    {
     "data": {
      "image/png": "[encoded data removed]",
      "text/plain": [
       "<Figure size 800x400 with 1 Axes>"
      ]
     },
     "metadata": {},
     "output_type": "display_data"
    }
   ],
   "source": [
    "\n",
    "import matplotlib.pyplot as plt\n",
    "import numpy as np\n",
    "\n",
    "# Function for visualization\n",
    "def function_to_visualize(x):\n",
    "    return x**2\n",
    "\n",
    "# Generating data points\n",
    "x = np.linspace(-10, 10, 100)\n",
    "y = function_to_visualize(x)\n",
    "\n",
    "# Plotting the function\n",
    "plt.figure(figsize=(8, 4))\n",
    "plt.plot(x, y, label='y = x^2')\n",
    "plt.title('Visualization of the Function y = x^2')\n",
    "plt.xlabel('x')\n",
    "plt.ylabel('y')\n",
    "plt.legend()\n",
    "plt.show()\n"
   ]
  },
  {
   "cell_type": "code",
   "execution_count": 17,
   "metadata": {},
   "outputs": [
    {
     "name": "stdout",
     "output_type": "stream",
     "text": [
      "Manual gradient calculation at x = 4: 8\n",
      "PyTorch gradient calculation at x = 4: tensor(8.)\n"
     ]
    }
   ],
   "source": [
    "\n",
    "# Manual calculation of gradient for y = x^2 at x = 4\n",
    "x_value = 4\n",
    "manual_gradient = 2 * x_value\n",
    "print('Manual gradient calculation at x = 4:', manual_gradient)\n",
    "\n",
    "# PyTorch calculation\n",
    "x_tensor = torch.tensor(4.0, requires_grad=True)\n",
    "y_tensor = x_tensor**2\n",
    "y_tensor.backward()\n",
    "print('PyTorch gradient calculation at x = 4:', x_tensor.grad)"
   ]
  },
  {
   "cell_type": "code",
   "execution_count": null,
   "metadata": {},
   "outputs": [],
   "source": []
  }
 ],
 "metadata": {
  "kernelspec": {
   "display_name": "Python 3",
   "language": "python",
   "name": "python3"
  },
  "language_info": {
   "codemirror_mode": {
    "name": "ipython",
    "version": 3
   },
   "file_extension": ".py",
   "mimetype": "text/x-python",
   "name": "python",
   "nbconvert_exporter": "python",
   "pygments_lexer": "ipython3",
   "version": "3.11.5"
  }
 },
 "nbformat": 4,
 "nbformat_minor": 4
}
